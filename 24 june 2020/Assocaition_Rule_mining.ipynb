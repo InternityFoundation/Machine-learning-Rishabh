{
  "nbformat": 4,
  "nbformat_minor": 0,
  "metadata": {
    "colab": {
      "name": "Untitled2.ipynb",
      "provenance": []
    },
    "kernelspec": {
      "name": "python3",
      "display_name": "Python 3"
    }
  },
  "cells": [
    {
      "cell_type": "code",
      "metadata": {
        "id": "m0J8KxdqpZR4",
        "colab_type": "code",
        "colab": {}
      },
      "source": [
        "import pandas as pd\n",
        "import numpy as np\n",
        "from mlxtend.frequent_patterns import apriori, association_rules\n",
        "import matplotlib.pyplot as plt"
      ],
      "execution_count": 41,
      "outputs": []
    },
    {
      "cell_type": "code",
      "metadata": {
        "id": "Aocl3L0Ape4g",
        "colab_type": "code",
        "colab": {}
      },
      "source": [
        "df = pd.read_csv('https://gist.githubusercontent.com/Harsh-Git-Hub/2979ec48043928ad9033d8469928e751/raw/72de943e040b8bd0d087624b154d41b2ba9d9b60/retail_dataset.csv', sep=',')"
      ],
      "execution_count": 42,
      "outputs": []
    },
    {
      "cell_type": "code",
      "metadata": {
        "id": "2u0EzLMRtD3C",
        "colab_type": "code",
        "colab": {
          "base_uri": "https://localhost:8080/",
          "height": 204
        },
        "outputId": "1612b572-90aa-42b0-9efc-4a436b710e83"
      },
      "source": [
        "df.head(5)"
      ],
      "execution_count": 43,
      "outputs": [
        {
          "output_type": "execute_result",
          "data": {
            "text/html": [
              "<div>\n",
              "<style scoped>\n",
              "    .dataframe tbody tr th:only-of-type {\n",
              "        vertical-align: middle;\n",
              "    }\n",
              "\n",
              "    .dataframe tbody tr th {\n",
              "        vertical-align: top;\n",
              "    }\n",
              "\n",
              "    .dataframe thead th {\n",
              "        text-align: right;\n",
              "    }\n",
              "</style>\n",
              "<table border=\"1\" class=\"dataframe\">\n",
              "  <thead>\n",
              "    <tr style=\"text-align: right;\">\n",
              "      <th></th>\n",
              "      <th>0</th>\n",
              "      <th>1</th>\n",
              "      <th>2</th>\n",
              "      <th>3</th>\n",
              "      <th>4</th>\n",
              "      <th>5</th>\n",
              "      <th>6</th>\n",
              "    </tr>\n",
              "  </thead>\n",
              "  <tbody>\n",
              "    <tr>\n",
              "      <th>0</th>\n",
              "      <td>Bread</td>\n",
              "      <td>Wine</td>\n",
              "      <td>Eggs</td>\n",
              "      <td>Meat</td>\n",
              "      <td>Cheese</td>\n",
              "      <td>Pencil</td>\n",
              "      <td>Diaper</td>\n",
              "    </tr>\n",
              "    <tr>\n",
              "      <th>1</th>\n",
              "      <td>Bread</td>\n",
              "      <td>Cheese</td>\n",
              "      <td>Meat</td>\n",
              "      <td>Diaper</td>\n",
              "      <td>Wine</td>\n",
              "      <td>Milk</td>\n",
              "      <td>Pencil</td>\n",
              "    </tr>\n",
              "    <tr>\n",
              "      <th>2</th>\n",
              "      <td>Cheese</td>\n",
              "      <td>Meat</td>\n",
              "      <td>Eggs</td>\n",
              "      <td>Milk</td>\n",
              "      <td>Wine</td>\n",
              "      <td>NaN</td>\n",
              "      <td>NaN</td>\n",
              "    </tr>\n",
              "    <tr>\n",
              "      <th>3</th>\n",
              "      <td>Cheese</td>\n",
              "      <td>Meat</td>\n",
              "      <td>Eggs</td>\n",
              "      <td>Milk</td>\n",
              "      <td>Wine</td>\n",
              "      <td>NaN</td>\n",
              "      <td>NaN</td>\n",
              "    </tr>\n",
              "    <tr>\n",
              "      <th>4</th>\n",
              "      <td>Meat</td>\n",
              "      <td>Pencil</td>\n",
              "      <td>Wine</td>\n",
              "      <td>NaN</td>\n",
              "      <td>NaN</td>\n",
              "      <td>NaN</td>\n",
              "      <td>NaN</td>\n",
              "    </tr>\n",
              "  </tbody>\n",
              "</table>\n",
              "</div>"
            ],
            "text/plain": [
              "        0       1     2       3       4       5       6\n",
              "0   Bread    Wine  Eggs    Meat  Cheese  Pencil  Diaper\n",
              "1   Bread  Cheese  Meat  Diaper    Wine    Milk  Pencil\n",
              "2  Cheese    Meat  Eggs    Milk    Wine     NaN     NaN\n",
              "3  Cheese    Meat  Eggs    Milk    Wine     NaN     NaN\n",
              "4    Meat  Pencil  Wine     NaN     NaN     NaN     NaN"
            ]
          },
          "metadata": {
            "tags": []
          },
          "execution_count": 43
        }
      ]
    },
    {
      "cell_type": "code",
      "metadata": {
        "id": "gzsSqJUQtF_s",
        "colab_type": "code",
        "colab": {
          "base_uri": "https://localhost:8080/",
          "height": 51
        },
        "outputId": "afdbde10-b59b-4d51-a3d2-311317dd8fd0"
      },
      "source": [
        "items = (df['0'].unique())\n",
        "items\n"
      ],
      "execution_count": 44,
      "outputs": [
        {
          "output_type": "execute_result",
          "data": {
            "text/plain": [
              "array(['Bread', 'Cheese', 'Meat', 'Eggs', 'Wine', 'Bagel', 'Pencil',\n",
              "       'Diaper', 'Milk'], dtype=object)"
            ]
          },
          "metadata": {
            "tags": []
          },
          "execution_count": 44
        }
      ]
    },
    {
      "cell_type": "code",
      "metadata": {
        "id": "kJw2Th8YtITr",
        "colab_type": "code",
        "colab": {}
      },
      "source": [
        "encoded_vals = []\n",
        "def custom():\n",
        "  for index, row in df.iterrows():\n",
        "      labels = {}\n",
        "      uncommons = list(set(items) - set(row))\n",
        "      commons = list(set(items).intersection(row))\n",
        "      for uc in uncommons:\n",
        "          labels[uc] = 0\n",
        "      for com in commons:\n",
        "          labels[com] = 1\n",
        "      encoded_vals.append(labels)\n",
        "  encoded_vals[0]\n",
        "ohe_df = pd.DataFrame(encoded_vals)\n",
        " "
      ],
      "execution_count": 48,
      "outputs": []
    },
    {
      "cell_type": "code",
      "metadata": {
        "id": "XvpQAs86tNc7",
        "colab_type": "code",
        "colab": {}
      },
      "source": [
        "from mlxtend.frequent_patterns import apriori\n",
        "from mlxtend.frequent_patterns import association_rules"
      ],
      "execution_count": 49,
      "outputs": []
    },
    {
      "cell_type": "code",
      "metadata": {
        "id": "pPxifnsn0pOz",
        "colab_type": "code",
        "colab": {
          "base_uri": "https://localhost:8080/",
          "height": 255
        },
        "outputId": "4b19ba7b-b62d-4cd5-fac7-10ec0f3267e4"
      },
      "source": [
        "ohe_df = pd.DataFrame(encoded_vals)\n",
        "print(ohe_df)"
      ],
      "execution_count": 57,
      "outputs": [
        {
          "output_type": "stream",
          "text": [
            "      Milk  Bagel  Diaper  Bread  Wine  Meat  Pencil  Eggs  Cheese\n",
            "0        0      0       1      1     1     1       1     1       1\n",
            "1        1      0       1      1     1     1       1     0       1\n",
            "2        1      0       0      0     1     1       0     1       1\n",
            "3        1      0       0      0     1     1       0     1       1\n",
            "4        0      0       0      0     1     1       1     0       0\n",
            "...    ...    ...     ...    ...   ...   ...     ...   ...     ...\n",
            "1570     0      0       0      1     0     0       0     1       1\n",
            "1571     1      0       0      0     0     1       1     0       0\n",
            "1572     0      0       1      1     1     1       1     1       1\n",
            "1573     0      0       0      0     0     1       0     0       1\n",
            "1574     0      1       0      1     1     1       0     1       0\n",
            "\n",
            "[1575 rows x 9 columns]\n"
          ],
          "name": "stdout"
        }
      ]
    },
    {
      "cell_type": "code",
      "metadata": {
        "id": "P5eXtCXxtTfs",
        "colab_type": "code",
        "colab": {
          "base_uri": "https://localhost:8080/",
          "height": 266
        },
        "outputId": "84907f97-b5c8-4b9f-d7bf-3eef28571721"
      },
      "source": [
        "freq_items = apriori(ohe_df, min_support=0.2, use_colnames=True)\n",
        "freq_items.head(7)"
      ],
      "execution_count": 58,
      "outputs": [
        {
          "output_type": "execute_result",
          "data": {
            "text/html": [
              "<div>\n",
              "<style scoped>\n",
              "    .dataframe tbody tr th:only-of-type {\n",
              "        vertical-align: middle;\n",
              "    }\n",
              "\n",
              "    .dataframe tbody tr th {\n",
              "        vertical-align: top;\n",
              "    }\n",
              "\n",
              "    .dataframe thead th {\n",
              "        text-align: right;\n",
              "    }\n",
              "</style>\n",
              "<table border=\"1\" class=\"dataframe\">\n",
              "  <thead>\n",
              "    <tr style=\"text-align: right;\">\n",
              "      <th></th>\n",
              "      <th>support</th>\n",
              "      <th>itemsets</th>\n",
              "    </tr>\n",
              "  </thead>\n",
              "  <tbody>\n",
              "    <tr>\n",
              "      <th>0</th>\n",
              "      <td>0.501587</td>\n",
              "      <td>(Milk)</td>\n",
              "    </tr>\n",
              "    <tr>\n",
              "      <th>1</th>\n",
              "      <td>0.425397</td>\n",
              "      <td>(Bagel)</td>\n",
              "    </tr>\n",
              "    <tr>\n",
              "      <th>2</th>\n",
              "      <td>0.406349</td>\n",
              "      <td>(Diaper)</td>\n",
              "    </tr>\n",
              "    <tr>\n",
              "      <th>3</th>\n",
              "      <td>0.504762</td>\n",
              "      <td>(Bread)</td>\n",
              "    </tr>\n",
              "    <tr>\n",
              "      <th>4</th>\n",
              "      <td>0.438095</td>\n",
              "      <td>(Wine)</td>\n",
              "    </tr>\n",
              "    <tr>\n",
              "      <th>5</th>\n",
              "      <td>0.476190</td>\n",
              "      <td>(Meat)</td>\n",
              "    </tr>\n",
              "    <tr>\n",
              "      <th>6</th>\n",
              "      <td>0.361905</td>\n",
              "      <td>(Pencil)</td>\n",
              "    </tr>\n",
              "  </tbody>\n",
              "</table>\n",
              "</div>"
            ],
            "text/plain": [
              "    support  itemsets\n",
              "0  0.501587    (Milk)\n",
              "1  0.425397   (Bagel)\n",
              "2  0.406349  (Diaper)\n",
              "3  0.504762   (Bread)\n",
              "4  0.438095    (Wine)\n",
              "5  0.476190    (Meat)\n",
              "6  0.361905  (Pencil)"
            ]
          },
          "metadata": {
            "tags": []
          },
          "execution_count": 58
        }
      ]
    },
    {
      "cell_type": "code",
      "metadata": {
        "id": "99Ok_xWcu_lf",
        "colab_type": "code",
        "colab": {
          "base_uri": "https://localhost:8080/",
          "height": 204
        },
        "outputId": "cca2eead-eceb-490b-dfaa-a5e5821f446a"
      },
      "source": [
        "rules = association_rules(freq_items, metric=\"confidence\", min_threshold=0.6)\n",
        "rules.head()"
      ],
      "execution_count": 59,
      "outputs": [
        {
          "output_type": "execute_result",
          "data": {
            "text/html": [
              "<div>\n",
              "<style scoped>\n",
              "    .dataframe tbody tr th:only-of-type {\n",
              "        vertical-align: middle;\n",
              "    }\n",
              "\n",
              "    .dataframe tbody tr th {\n",
              "        vertical-align: top;\n",
              "    }\n",
              "\n",
              "    .dataframe thead th {\n",
              "        text-align: right;\n",
              "    }\n",
              "</style>\n",
              "<table border=\"1\" class=\"dataframe\">\n",
              "  <thead>\n",
              "    <tr style=\"text-align: right;\">\n",
              "      <th></th>\n",
              "      <th>antecedents</th>\n",
              "      <th>consequents</th>\n",
              "      <th>antecedent support</th>\n",
              "      <th>consequent support</th>\n",
              "      <th>support</th>\n",
              "      <th>confidence</th>\n",
              "      <th>lift</th>\n",
              "      <th>leverage</th>\n",
              "      <th>conviction</th>\n",
              "    </tr>\n",
              "  </thead>\n",
              "  <tbody>\n",
              "    <tr>\n",
              "      <th>0</th>\n",
              "      <td>(Milk)</td>\n",
              "      <td>(Cheese)</td>\n",
              "      <td>0.501587</td>\n",
              "      <td>0.501587</td>\n",
              "      <td>0.304762</td>\n",
              "      <td>0.607595</td>\n",
              "      <td>1.211344</td>\n",
              "      <td>0.053172</td>\n",
              "      <td>1.270148</td>\n",
              "    </tr>\n",
              "    <tr>\n",
              "      <th>1</th>\n",
              "      <td>(Cheese)</td>\n",
              "      <td>(Milk)</td>\n",
              "      <td>0.501587</td>\n",
              "      <td>0.501587</td>\n",
              "      <td>0.304762</td>\n",
              "      <td>0.607595</td>\n",
              "      <td>1.211344</td>\n",
              "      <td>0.053172</td>\n",
              "      <td>1.270148</td>\n",
              "    </tr>\n",
              "    <tr>\n",
              "      <th>2</th>\n",
              "      <td>(Bagel)</td>\n",
              "      <td>(Bread)</td>\n",
              "      <td>0.425397</td>\n",
              "      <td>0.504762</td>\n",
              "      <td>0.279365</td>\n",
              "      <td>0.656716</td>\n",
              "      <td>1.301042</td>\n",
              "      <td>0.064641</td>\n",
              "      <td>1.442650</td>\n",
              "    </tr>\n",
              "    <tr>\n",
              "      <th>3</th>\n",
              "      <td>(Wine)</td>\n",
              "      <td>(Cheese)</td>\n",
              "      <td>0.438095</td>\n",
              "      <td>0.501587</td>\n",
              "      <td>0.269841</td>\n",
              "      <td>0.615942</td>\n",
              "      <td>1.227986</td>\n",
              "      <td>0.050098</td>\n",
              "      <td>1.297754</td>\n",
              "    </tr>\n",
              "    <tr>\n",
              "      <th>4</th>\n",
              "      <td>(Eggs)</td>\n",
              "      <td>(Meat)</td>\n",
              "      <td>0.438095</td>\n",
              "      <td>0.476190</td>\n",
              "      <td>0.266667</td>\n",
              "      <td>0.608696</td>\n",
              "      <td>1.278261</td>\n",
              "      <td>0.058050</td>\n",
              "      <td>1.338624</td>\n",
              "    </tr>\n",
              "  </tbody>\n",
              "</table>\n",
              "</div>"
            ],
            "text/plain": [
              "  antecedents consequents  antecedent support  ...      lift  leverage  conviction\n",
              "0      (Milk)    (Cheese)            0.501587  ...  1.211344  0.053172    1.270148\n",
              "1    (Cheese)      (Milk)            0.501587  ...  1.211344  0.053172    1.270148\n",
              "2     (Bagel)     (Bread)            0.425397  ...  1.301042  0.064641    1.442650\n",
              "3      (Wine)    (Cheese)            0.438095  ...  1.227986  0.050098    1.297754\n",
              "4      (Eggs)      (Meat)            0.438095  ...  1.278261  0.058050    1.338624\n",
              "\n",
              "[5 rows x 9 columns]"
            ]
          },
          "metadata": {
            "tags": []
          },
          "execution_count": 59
        }
      ]
    },
    {
      "cell_type": "code",
      "metadata": {
        "id": "1VjMHCHavKjk",
        "colab_type": "code",
        "colab": {}
      },
      "source": [
        "apriori?"
      ],
      "execution_count": 24,
      "outputs": []
    },
    {
      "cell_type": "code",
      "metadata": {
        "id": "TIjiyCgpvtV1",
        "colab_type": "code",
        "colab": {}
      },
      "source": [
        "association_rules?"
      ],
      "execution_count": 25,
      "outputs": []
    },
    {
      "cell_type": "code",
      "metadata": {
        "id": "qYzSXCjYvx_9",
        "colab_type": "code",
        "colab": {
          "base_uri": "https://localhost:8080/",
          "height": 295
        },
        "outputId": "9f6e1064-d45c-4e4a-9692-de9cc8833943"
      },
      "source": [
        "plt.scatter(rules['support'], rules['confidence'], alpha=0.5)\n",
        "plt.xlabel('support')\n",
        "plt.ylabel('confidence')\n",
        "plt.title('Support vs Confidence')\n",
        "plt.show()"
      ],
      "execution_count": 60,
      "outputs": [
        {
          "output_type": "display_data",
          "data": {
            "image/png": "[encoded data removed]",
            "text/plain": [
              "<Figure size 432x288 with 1 Axes>"
            ]
          },
          "metadata": {
            "tags": [],
            "needs_background": "light"
          }
        }
      ]
    },
    {
      "cell_type": "code",
      "metadata": {
        "id": "e3XBc8ru1Yul",
        "colab_type": "code",
        "colab": {
          "base_uri": "https://localhost:8080/",
          "height": 295
        },
        "outputId": "99ec85d4-cf7a-447e-ab98-2e7ba1ad0be1"
      },
      "source": [
        "plt.scatter(rules['support'], rules['lift'], alpha=0.5)\n",
        "plt.xlabel('support')\n",
        "plt.ylabel('lift')\n",
        "plt.title('Support vs Lift')\n",
        "plt.show()"
      ],
      "execution_count": 62,
      "outputs": [
        {
          "output_type": "display_data",
          "data": {
            "image/png": "[encoded data removed]",
            "text/plain": [
              "<Figure size 432x288 with 1 Axes>"
            ]
          },
          "metadata": {
            "tags": [],
            "needs_background": "light"
          }
        }
      ]
    },
    {
      "cell_type": "code",
      "metadata": {
        "id": "54tAEaXB1bZx",
        "colab_type": "code",
        "colab": {
          "base_uri": "https://localhost:8080/",
          "height": 299
        },
        "outputId": "90d10136-305f-499c-82da-219266657810"
      },
      "source": [
        "fit = np.polyfit(rules['lift'], rules['confidence'], 1)\n",
        "fit_fn = np.poly1d(fit)\n",
        "plt.plot(rules['lift'], rules['confidence'], 'yo', rules['lift'], \n",
        "fit_fn(rules['lift']))"
      ],
      "execution_count": 64,
      "outputs": [
        {
          "output_type": "execute_result",
          "data": {
            "text/plain": [
              "[<matplotlib.lines.Line2D at 0x7f4654933c18>,\n",
              " <matplotlib.lines.Line2D at 0x7f4654933cf8>]"
            ]
          },
          "metadata": {
            "tags": []
          },
          "execution_count": 64
        },
        {
          "output_type": "display_data",
          "data": {
            "image/png": "[encoded data removed]",
            "text/plain": [
              "<Figure size 432x288 with 1 Axes>"
            ]
          },
          "metadata": {
            "tags": [],
            "needs_background": "light"
          }
        }
      ]
    },
    {
      "cell_type": "code",
      "metadata": {
        "id": "VJ_gckAJ1p8j",
        "colab_type": "code",
        "colab": {}
      },
      "source": [
        ""
      ],
      "execution_count": null,
      "outputs": []
    }
  ]
}