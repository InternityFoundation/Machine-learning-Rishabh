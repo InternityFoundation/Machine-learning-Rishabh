{
 "cells": [
  {
   "cell_type": "code",
   "execution_count": 21,
   "metadata": {},
   "outputs": [],
   "source": [
    "import pandas as pd\n",
    "import numpy as np\n",
    "np.set_printoptions(precision=4)\n",
    "from mpl_toolkits.mplot3d import Axes3D\n",
    "import matplotlib.pyplot as plt"
   ]
  },
  {
   "cell_type": "code",
   "execution_count": 22,
   "metadata": {},
   "outputs": [],
   "source": [
    "data = np.loadtxt('data2.txt', delimiter=',')\n",
    "X_train = data[:,[0,1]] #feature set\n",
    "y_train = data[:,2] #label set\n",
    "mean = np.ones(X_train.shape[1])\n",
    "std = np.ones(X_train.shape[1])\n",
    "for i in range(0, X_train.shape[1]):\n",
    "    mean[i] = np.mean(X_train.transpose()[i])\n",
    "    std[i] = np.std(X_train.transpose()[i])\n",
    "    for j in range(0, X_train.shape[0]):\n",
    "        X_train[j][i] = (X_train[j][i] - mean[i])/std[i]"
   ]
  },
  {
   "cell_type": "code",
   "execution_count": 23,
   "metadata": {},
   "outputs": [],
   "source": [
    "def PCA(X_train, k):\n",
    "    # 1. Computation of Averaging Co-Variance Matrix:\n",
    "    cov = np.zeros((X_train.shape[1], X_train.shape[1]))\n",
    "    for i in range(0, X_train.shape[0]):\n",
    "        cov = cov + np.matmul(X_train[0].transpose(), X_train[0])\n",
    "    avg_cov = (1/X_train.shape[0]) * cov\n",
    "    # 2. Obtaining the eigen vectors:\n",
    "    from numpy import linalg as LA\n",
    "    eigen_values, eigen_vectors = LA.eig(avg_cov)\n",
    "    # 3. Selecting k (here 1) Eigen Vector(s) and new feature space:\n",
    "    z = np.matmul(eigen_vectors.T[0:k], X_train.T)\n",
    "    return z\n",
    "z = PCA(X_train, 1) # Calling the PCA function"
   ]
  },
  {
   "cell_type": "code",
   "execution_count": 24,
   "metadata": {},
   "outputs": [
    {
     "data": {
      "text/plain": [
       "<Figure size 432x288 with 0 Axes>"
      ]
     },
     "metadata": {},
     "output_type": "display_data"
    }
   ],
   "source": [
    "# 1. Re-scaling or Dennormalization:\n",
    "for i in range(0, X_train.shape[1]):\n",
    "    for j in range(0, X_train.shape[0]):\n",
    "        X_train[j][i] = X_train[j][i] * std[i] + mean[i]\n",
    "# 2. Plotting the 3-D Data (extra dimension for target):\n",
    "\n",
    "sequence_containing_x_vals = list(X_train.transpose()[0])\n",
    "sequence_containing_y_vals = list(X_train.transpose()[1])\n",
    "sequence_containing_z_vals = list(y_train)\n",
    "fig = plt.figure()"
   ]
  },
  {
   "cell_type": "code",
   "execution_count": 25,
   "metadata": {},
   "outputs": [
    {
     "data": {
      "text/plain": [
       "Text(0, 0.5, 'Actual Housing Price')"
      ]
     },
     "execution_count": 25,
     "metadata": {},
     "output_type": "execute_result"
    },
    {
     "data": {
      "image/png": "[encoded data removed]",
      "text/plain": [
       "<Figure size 432x288 with 1 Axes>"
      ]
     },
     "metadata": {},
     "output_type": "display_data"
    }
   ],
   "source": [
    "ax = Axes3D(fig)\n",
    "ax.scatter(sequence_containing_x_vals, sequence_containing_y_vals,\n",
    "           sequence_containing_z_vals)\n",
    "ax.set_xlabel('Living Room Area', fontsize=10)\n",
    "ax.set_ylabel('Number of Bed Rooms', fontsize=10)\n",
    "ax.set_zlabel('Actual Housing Price', fontsize=10)\n",
    "# 3. Plotting the PCA new 2-D Data (extra dimension for target):\n",
    "plt.scatter(z.T, y_train)\n",
    "plt.xlabel('z: The New Feature Space after PCA')\n",
    "plt.ylabel('Actual Housing Price')"
   ]
  },
  {
   "cell_type": "code",
   "execution_count": null,
   "metadata": {},
   "outputs": [],
   "source": []
  }
 ],
 "metadata": {
  "kernelspec": {
   "display_name": "Python 3",
   "language": "python",
   "name": "python3"
  },
  "language_info": {
   "codemirror_mode": {
    "name": "ipython",
    "version": 3
   },
   "file_extension": ".py",
   "mimetype": "text/x-python",
   "name": "python",
   "nbconvert_exporter": "python",
   "pygments_lexer": "ipython3",
   "version": "3.7.3"
  }
 },
 "nbformat": 4,
 "nbformat_minor": 4
}
